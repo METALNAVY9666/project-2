{
 "cells": [
  {
   "cell_type": "markdown",
   "id": "8026a2b7",
   "metadata": {},
   "source": [
    "Le projet est à rendre en **un seul** fichier déposé dans mon **casier** avant le 1 mars 2023 à 23h59'59. \n",
    "\n",
    "Le projet doit être compressé au format zip (.zip) ou 7zip (.7z) et doit comprendre le fichier principal au format .py **à la racine** et un éventuel fichier texte A_LIRE.txt s'il y a des informations à donner avant l'exécution du programme (mais pas les règles du jeu!) les présents fichiers **renommés et complétés** au format .ipynb pour chaque élève du groupe dans un dossier nommé *auto_evaluation* et **tous** les autres dans des dossiers explicites (par exemple *IMG* pour image, *txt* pour les fichiers texte, *modules* pour les fichiers python annexes...).\n",
    "\n",
    "**Attention** pour les noms de fichiers, windows n'est pas sensible à la casse (différence entre minuscules et MAJUSCULES) mais ce n'est pas le cas de GNU/Linux, merci de nommer vos fichiers à l'identique pour vos codes.\n",
    "\n",
    "L'exécution du programme python principal doit permettre de lancer votre programme sans aucune autre manipulation.\n",
    "\n",
    "|Item &nbsp; &nbsp; &nbsp; \\ &nbsp; &nbsp; &nbsp; Points | Partie commune | Partie individuelle |\n",
    "|:-------------|:---:|:---:|\n",
    "|**Programme fonctionnel**| 1 point | 1 point |\n",
    "|**Conforme aux règles du jeu classique**| 2 points | 0 point |\n",
    "|**Maniabilité du programme**| 1 point | 1 point |\n",
    "|**Visuel du programme**| 1 point | 1 point |\n",
    "|||\n",
    "|**Conforme à la norme PEP8 (pylama, pylint)**| 0 point | 2 points |\n",
    "|**Commentaires et tests**| 0 point | 2 points |\n",
    "|**Orthographe dans le code et le rendu**| 0 point | 2 points |\n",
    "|||\n",
    "|**Répartition du travail**| 1 point | 1 point |\n",
    "|**Carnet de bord(Pad)**| 1 point | 1 point |\n",
    "|**Rendu à l'heure, dans mon casier, au bon format...**| 1 point | 1 point |\n",
    "|||\n",
    "|**Total**| 8 points | 12 points |\n",
    "\n",
    "En remplissant le tableau d'auto-évaluation ci-dessous, si votre total correspond au mien à 1 point près, 1 point bonus (si la note n'est pas déjà maximale)!\n",
    "\n",
    "|Item &nbsp; &nbsp; &nbsp; \\ &nbsp; &nbsp; &nbsp; Points | Partie commune | Partie individuelle |\n",
    "|:-------------|:---:|:---:|\n",
    "|**Programme fonctionnel**| _/1 | _/1 |\n",
    "|**Conforme aux règles du jeu classique**| _/2 | _/0 |\n",
    "|**Maniabilité du programme**| _/1 | _/1 |\n",
    "|**Visuel du programme**| _/1 | _/1 |\n",
    "|||\n",
    "|**Conforme à la norme PEP8 (pylama, pylint)**| _/0 | _/2 |\n",
    "|**Commentaires et tests**| _/0 | _/2 |\n",
    "|**Orthographe dans le code et le rendu**| _/0 | _/2 |\n",
    "|||\n",
    "|**Répartition du travail**| _/1 | _/1 |\n",
    "|**Carnet de bord(Pad)**| _/1 | _/1 |\n",
    "|**Rendu à l'heure, dans mon casier, au bon format...**| _/1 | _/1 |\n",
    "|||\n",
    "|**Total**| _/8 | __/12 |\n",
    "\n",
    "Total : __/20"
   ]
  }
 ],
 "metadata": {
  "kernelspec": {
   "display_name": "Python 3 (ipykernel)",
   "language": "python",
   "name": "python3"
  },
  "language_info": {
   "codemirror_mode": {
    "name": "ipython",
    "version": 3
   },
   "file_extension": ".py",
   "mimetype": "text/x-python",
   "name": "python",
   "nbconvert_exporter": "python",
   "pygments_lexer": "ipython3",
   "version": "3.9.12"
  }
 },
 "nbformat": 4,
 "nbformat_minor": 5
}
